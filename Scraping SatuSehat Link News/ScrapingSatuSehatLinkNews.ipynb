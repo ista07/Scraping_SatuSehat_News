{
  "cells": [
    {
      "cell_type": "markdown",
      "source": [
        "# **Scraping SatuSehat (PeduliLindungi) News**"
      ],
      "metadata": {
        "id": "gHgLJ4DIym00"
      }
    },
    {
      "cell_type": "markdown",
      "metadata": {
        "id": "L0BRmyK5s5G8"
      },
      "source": [
        "Salah satu cara untuk melakukan web scraping adalah dengan menggunakan `Selenium`. Beberapa kelebihan dari Selenium, yaitu:\n",
        "- Selenium dapat berinteraksi dengan elemen di halaman web, seperti mengklik tombol dan menavigasi antar halaman yang sangat berguna untuk mengakses konten yang dimuat secara dinamis.\n",
        "- Selenium dapat digunakan pada berbagai browser, salah satunya adalah Google Chrome.\n"
      ]
    },
    {
      "cell_type": "markdown",
      "metadata": {
        "id": "q8UGFNE02ZY0"
      },
      "source": [
        "## Set Up"
      ]
    },
    {
      "cell_type": "markdown",
      "metadata": {
        "id": "AtN79oZazmZW"
      },
      "source": [
        "Sebelum memulai lebih lanjut, kita harus menyiapkan lingkungan di Ubuntu dengan mengunduh dan menginstal Google Chrome dan ChromeDriver agar Selenium dapat mengotomatisasi browser."
      ]
    },
    {
      "cell_type": "code",
      "execution_count": null,
      "metadata": {
        "colab": {
          "base_uri": "https://localhost:8080/"
        },
        "id": "2TOhC2hazmCf",
        "outputId": "c8d006f9-6d57-482d-c13f-9282953796cc"
      },
      "outputs": [
        {
          "output_type": "stream",
          "name": "stdout",
          "text": [
            "\u001b[33m\r0% [Working]\u001b[0m\r            \rHit:1 https://developer.download.nvidia.com/compute/cuda/repos/ubuntu2204/x86_64  InRelease\n",
            "\u001b[33m\r0% [Waiting for headers] [Waiting for headers] [Waiting for headers] [Waiting f\u001b[0m\r                                                                               \rHit:2 https://cloud.r-project.org/bin/linux/ubuntu jammy-cran40/ InRelease\n",
            "\u001b[33m\r0% [Waiting for headers] [Waiting for headers] [Waiting for headers] [Connectin\u001b[0m\r                                                                               \rGet:3 http://security.ubuntu.com/ubuntu jammy-security InRelease [129 kB]\n",
            "\u001b[33m\r0% [Waiting for headers] [3 InRelease 14.2 kB/129 kB 11%] [Waiting for headers]\u001b[0m\r                                                                               \rHit:4 http://archive.ubuntu.com/ubuntu jammy InRelease\n",
            "Ign:5 https://r2u.stat.illinois.edu/ubuntu jammy InRelease\n",
            "Hit:6 https://r2u.stat.illinois.edu/ubuntu jammy Release\n",
            "Get:7 http://archive.ubuntu.com/ubuntu jammy-updates InRelease [128 kB]\n",
            "Hit:8 http://archive.ubuntu.com/ubuntu jammy-backports InRelease\n",
            "Hit:10 https://ppa.launchpadcontent.net/deadsnakes/ppa/ubuntu jammy InRelease\n",
            "Hit:11 https://ppa.launchpadcontent.net/graphics-drivers/ppa/ubuntu jammy InRelease\n",
            "Hit:12 https://ppa.launchpadcontent.net/ubuntugis/ppa/ubuntu jammy InRelease\n",
            "Fetched 257 kB in 2s (139 kB/s)\n",
            "Reading package lists... Done\n",
            "Building dependency tree... Done\n",
            "Reading state information... Done\n",
            "50 packages can be upgraded. Run 'apt list --upgradable' to see them.\n",
            "\u001b[1;33mW: \u001b[0mSkipping acquire of configured file 'main/source/Sources' as repository 'https://r2u.stat.illinois.edu/ubuntu jammy InRelease' does not seem to provide it (sources.list entry misspelt?)\u001b[0m\n",
            "Reading package lists... Done\n",
            "Building dependency tree... Done\n",
            "Reading state information... Done\n",
            "curl is already the newest version (7.81.0-1ubuntu1.17).\n",
            "unzip is already the newest version (6.0-26ubuntu3.2).\n",
            "wget is already the newest version (1.21.2-2ubuntu1.1).\n",
            "You might want to run 'apt --fix-broken install' to correct these.\n",
            "The following packages have unmet dependencies:\n",
            " google-chrome-stable : Depends: libvulkan1 but it is not going to be installed\n",
            "\u001b[1;31mE: \u001b[0mUnmet dependencies. Try 'apt --fix-broken install' with no packages (or specify a solution).\u001b[0m\n",
            "--2024-09-09 10:14:29--  http://archive.ubuntu.com/ubuntu/pool/main/libu/libu2f-host/libu2f-udev_1.1.4-1_all.deb\n",
            "Resolving archive.ubuntu.com (archive.ubuntu.com)... 185.125.190.81, 91.189.91.81, 91.189.91.82, ...\n",
            "Connecting to archive.ubuntu.com (archive.ubuntu.com)|185.125.190.81|:80... connected.\n",
            "HTTP request sent, awaiting response... 200 OK\n",
            "Length: 3708 (3.6K) [application/vnd.debian.binary-package]\n",
            "Saving to: ‘libu2f-udev_1.1.4-1_all.deb.2’\n",
            "\n",
            "libu2f-udev_1.1.4-1 100%[===================>]   3.62K  --.-KB/s    in 0s      \n",
            "\n",
            "2024-09-09 10:14:29 (235 MB/s) - ‘libu2f-udev_1.1.4-1_all.deb.2’ saved [3708/3708]\n",
            "\n",
            "(Reading database ... 123718 files and directories currently installed.)\n",
            "Preparing to unpack libu2f-udev_1.1.4-1_all.deb ...\n",
            "Unpacking libu2f-udev (1.1.4-1) over (1.1.4-1) ...\n",
            "Setting up libu2f-udev (1.1.4-1) ...\n",
            "--2024-09-09 10:14:30--  https://dl.google.com/linux/direct/google-chrome-stable_current_amd64.deb\n",
            "Resolving dl.google.com (dl.google.com)... 108.177.12.91, 108.177.12.93, 108.177.12.190, ...\n",
            "Connecting to dl.google.com (dl.google.com)|108.177.12.91|:443... connected.\n",
            "HTTP request sent, awaiting response... 200 OK\n",
            "Length: 110842868 (106M) [application/x-debian-package]\n",
            "Saving to: ‘google-chrome-stable_current_amd64.deb.2’\n",
            "\n",
            "google-chrome-stabl 100%[===================>] 105.71M   324MB/s    in 0.3s    \n",
            "\n",
            "2024-09-09 10:14:30 (324 MB/s) - ‘google-chrome-stable_current_amd64.deb.2’ saved [110842868/110842868]\n",
            "\n",
            "(Reading database ... 123718 files and directories currently installed.)\n",
            "Preparing to unpack google-chrome-stable_current_amd64.deb ...\n",
            "Unpacking google-chrome-stable (128.0.6613.119-1) over (128.0.6613.119-1) ...\n",
            "\u001b[1mdpkg:\u001b[0m dependency problems prevent configuration of google-chrome-stable:\n",
            " google-chrome-stable depends on libvulkan1; however:\n",
            "  Package libvulkan1 is not installed.\n",
            "\n",
            "\u001b[1mdpkg:\u001b[0m error processing package google-chrome-stable (--install):\n",
            " dependency problems - leaving unconfigured\n",
            "Processing triggers for man-db (2.10.2-1) ...\n",
            "Errors were encountered while processing:\n",
            " google-chrome-stable\n",
            "--2024-09-09 10:14:45--  https://chromedriver.storage.googleapis.com/114.0.5735.90/chromedriver_linux64.zip\n",
            "Resolving chromedriver.storage.googleapis.com (chromedriver.storage.googleapis.com)... 108.177.11.207, 108.177.12.207, 74.125.26.207, ...\n",
            "Connecting to chromedriver.storage.googleapis.com (chromedriver.storage.googleapis.com)|108.177.11.207|:443... connected.\n",
            "HTTP request sent, awaiting response... 304 Not Modified\n",
            "File ‘/tmp/chromedriver_linux64.zip’ not modified on server. Omitting download.\n",
            "\n",
            "Archive:  /tmp/chromedriver_linux64.zip\n",
            "  inflating: /tmp/chromedriver       \n",
            "  inflating: /tmp/LICENSE.chromedriver  \n",
            "Requirement already satisfied: selenium in /usr/local/lib/python3.10/dist-packages (4.24.0)\n",
            "Requirement already satisfied: urllib3<3,>=1.26 in /usr/local/lib/python3.10/dist-packages (from urllib3[socks]<3,>=1.26->selenium) (2.0.7)\n",
            "Requirement already satisfied: trio~=0.17 in /usr/local/lib/python3.10/dist-packages (from selenium) (0.26.2)\n",
            "Requirement already satisfied: trio-websocket~=0.9 in /usr/local/lib/python3.10/dist-packages (from selenium) (0.11.1)\n",
            "Requirement already satisfied: certifi>=2021.10.8 in /usr/local/lib/python3.10/dist-packages (from selenium) (2024.8.30)\n",
            "Requirement already satisfied: typing_extensions~=4.9 in /usr/local/lib/python3.10/dist-packages (from selenium) (4.12.2)\n",
            "Requirement already satisfied: websocket-client~=1.8 in /usr/local/lib/python3.10/dist-packages (from selenium) (1.8.0)\n",
            "Requirement already satisfied: attrs>=23.2.0 in /usr/local/lib/python3.10/dist-packages (from trio~=0.17->selenium) (24.2.0)\n",
            "Requirement already satisfied: sortedcontainers in /usr/local/lib/python3.10/dist-packages (from trio~=0.17->selenium) (2.4.0)\n",
            "Requirement already satisfied: idna in /usr/local/lib/python3.10/dist-packages (from trio~=0.17->selenium) (3.8)\n",
            "Requirement already satisfied: outcome in /usr/local/lib/python3.10/dist-packages (from trio~=0.17->selenium) (1.3.0.post0)\n",
            "Requirement already satisfied: sniffio>=1.3.0 in /usr/local/lib/python3.10/dist-packages (from trio~=0.17->selenium) (1.3.1)\n",
            "Requirement already satisfied: exceptiongroup in /usr/local/lib/python3.10/dist-packages (from trio~=0.17->selenium) (1.2.2)\n",
            "Requirement already satisfied: wsproto>=0.14 in /usr/local/lib/python3.10/dist-packages (from trio-websocket~=0.9->selenium) (1.2.0)\n",
            "Requirement already satisfied: pysocks!=1.5.7,<2.0,>=1.5.6 in /usr/local/lib/python3.10/dist-packages (from urllib3[socks]<3,>=1.26->selenium) (1.7.1)\n",
            "Requirement already satisfied: h11<1,>=0.9.0 in /usr/local/lib/python3.10/dist-packages (from wsproto>=0.14->trio-websocket~=0.9->selenium) (0.14.0)\n"
          ]
        },
        {
          "output_type": "execute_result",
          "data": {
            "text/plain": []
          },
          "metadata": {},
          "execution_count": 1
        }
      ],
      "source": [
        "%%shell\n",
        "sudo apt -y update\n",
        "sudo apt install -y wget curl unzip\n",
        "wget http://archive.ubuntu.com/ubuntu/pool/main/libu/libu2f-host/libu2f-udev_1.1.4-1_all.deb\n",
        "dpkg -i libu2f-udev_1.1.4-1_all.deb\n",
        "wget https://dl.google.com/linux/direct/google-chrome-stable_current_amd64.deb\n",
        "dpkg -i google-chrome-stable_current_amd64.deb\n",
        "CHROME_DRIVER_VERSION=`curl -sS chromedriver.storage.googleapis.com/LATEST_RELEASE`\n",
        "wget -N https://chromedriver.storage.googleapis.com/$CHROME_DRIVER_VERSION/chromedriver_linux64.zip -P /tmp/\n",
        "unzip -o /tmp/chromedriver_linux64.zip -d /tmp/\n",
        "chmod +x /tmp/chromedriver\n",
        "mv /tmp/chromedriver /usr/local/bin/chromedriver\n",
        "pip install selenium"
      ]
    },
    {
      "cell_type": "code",
      "execution_count": null,
      "metadata": {
        "colab": {
          "base_uri": "https://localhost:8080/"
        },
        "id": "cY6T7eRJzvSZ",
        "outputId": "b6796d52-023f-466f-c868-726db5246c73"
      },
      "outputs": [
        {
          "output_type": "stream",
          "name": "stdout",
          "text": [
            "Requirement already satisfied: chromedriver-autoinstaller in /usr/local/lib/python3.10/dist-packages (0.6.4)\n",
            "Requirement already satisfied: packaging>=23.1 in /usr/local/lib/python3.10/dist-packages (from chromedriver-autoinstaller) (24.1)\n",
            "Requirement already satisfied: dateparser in /usr/local/lib/python3.10/dist-packages (1.2.0)\n",
            "Requirement already satisfied: python-dateutil in /usr/local/lib/python3.10/dist-packages (from dateparser) (2.8.2)\n",
            "Requirement already satisfied: pytz in /usr/local/lib/python3.10/dist-packages (from dateparser) (2024.1)\n",
            "Requirement already satisfied: regex!=2019.02.19,!=2021.8.27 in /usr/local/lib/python3.10/dist-packages (from dateparser) (2024.5.15)\n",
            "Requirement already satisfied: tzlocal in /usr/local/lib/python3.10/dist-packages (from dateparser) (5.2)\n",
            "Requirement already satisfied: six>=1.5 in /usr/local/lib/python3.10/dist-packages (from python-dateutil->dateparser) (1.16.0)\n"
          ]
        }
      ],
      "source": [
        "# Install Libraries\n",
        "!pip install chromedriver-autoinstaller\n",
        "!pip install dateparser"
      ]
    },
    {
      "cell_type": "code",
      "execution_count": null,
      "metadata": {
        "id": "uxSp7oVFzf0b"
      },
      "outputs": [],
      "source": [
        "# Import library\n",
        "import re\n",
        "import csv\n",
        "import sys\n",
        "import time\n",
        "import dateparser\n",
        "import pandas as pd\n",
        "import chromedriver_autoinstaller\n",
        "from datetime import datetime\n",
        "from selenium import webdriver\n",
        "from selenium.webdriver.common.by import By\n",
        "from selenium.webdriver.support.ui import WebDriverWait\n",
        "from selenium.common.exceptions import NoSuchElementException\n",
        "from selenium.webdriver.support import expected_conditions as EC"
      ]
    },
    {
      "cell_type": "code",
      "execution_count": null,
      "metadata": {
        "colab": {
          "base_uri": "https://localhost:8080/",
          "height": 36
        },
        "id": "pypPPEHzWXuT",
        "outputId": "953b882a-00c7-49d1-e91b-9711b8b54e32"
      },
      "outputs": [
        {
          "output_type": "execute_result",
          "data": {
            "text/plain": [
              "'/usr/local/lib/python3.10/dist-packages/chromedriver_autoinstaller/128/chromedriver'"
            ],
            "application/vnd.google.colaboratory.intrinsic+json": {
              "type": "string"
            }
          },
          "metadata": {},
          "execution_count": 4
        }
      ],
      "source": [
        "# Konfigurasi opsi Chrome\n",
        "sys.path.insert(0,'/usr/lib/chromium-browser/chromedriver')\n",
        "\n",
        "chrome_options = webdriver.ChromeOptions()\n",
        "chrome_options.add_argument('--headless') # Agar berjalan di mode tanpa antarmuka\n",
        "chrome_options.add_argument('--no-sandbox')\n",
        "chrome_options.add_argument('--disable-dev-shm-usage')\n",
        "\n",
        "chromedriver_autoinstaller.install()"
      ]
    },
    {
      "cell_type": "markdown",
      "metadata": {
        "id": "qitMhlTL2c-w"
      },
      "source": [
        "# **Scraping Link Artikel pada Berita di Google**"
      ]
    },
    {
      "cell_type": "code",
      "execution_count": null,
      "metadata": {
        "id": "EgkBX7oqzf0h"
      },
      "outputs": [],
      "source": [
        "# Inisialisasi list untuk menyimpan semua data\n",
        "all_articles = set()"
      ]
    },
    {
      "cell_type": "code",
      "source": [
        "# Fungsi untuk memodifikasi link Google News\n",
        "def rearrange_news_link(url):\n",
        "  # Memisahkan URL berdasarkan pola 'start=' diikuti angka dan '&sa='\n",
        "  url_split = re.split(r\"start=(\\d+)&sa=\", url)\n",
        "  # Mengembalikan URL yang telah diubah\n",
        "  return url_split[0] + 'start=', '&sa=' + url_split[-1]"
      ],
      "metadata": {
        "id": "xlN-RKauO21a"
      },
      "execution_count": null,
      "outputs": []
    },
    {
      "cell_type": "code",
      "execution_count": null,
      "metadata": {
        "id": "xoWFK9tIIUoF"
      },
      "outputs": [],
      "source": [
        "# Fungsi untuk hanya mengambil bagian utama dari link berita yang didapatkan\n",
        "def get_google_main_url(url):\n",
        "  return re.findall(r\"^(.*?)(?=&)\", url)[0]"
      ]
    },
    {
      "cell_type": "code",
      "execution_count": null,
      "metadata": {
        "id": "08_sac5-zf0i"
      },
      "outputs": [],
      "source": [
        "def scrape_google_news_link(result_set, number, url):\n",
        "    # Memisahkan URL menjadi bagian yang bisa diproses\n",
        "    url1, url2 = rearrange_news_link(url)\n",
        "\n",
        "    # Mendapatkan URL utama dari URL yang telah dipisahkan\n",
        "    main_url = get_google_main_url(url1)\n",
        "    print(f\"Mengakses URL: {main_url}\")\n",
        "\n",
        "    # Menginisialisasi driver Chrome dengan opsi yang sudah ditentukan\n",
        "    driver = webdriver.Chrome(options=chrome_options)\n",
        "    article_xpath = \"//div[contains(@class, 'MjjYud')]/div\"\n",
        "\n",
        "    try:\n",
        "        # Mengambil artikel dari URL yang diberikan, sebanyak <number> artikel\n",
        "        for i in range(0, number, 10):\n",
        "            # Membuat URL untuk halaman artikel berikutnya\n",
        "            page = url1 + str(i) + url2\n",
        "            driver.get(page)\n",
        "            time.sleep(2)  # Memberi waktu untuk halaman memuat\n",
        "\n",
        "            # Menemukan elemen yang berisi artikel\n",
        "            articles = driver.find_element(By.XPATH, article_xpath)\n",
        "            articles = articles.find_elements(By.CLASS_NAME, \"SoaBEf\")\n",
        "            print(f\"Mengumpulkan artikel dari {i+1} hingga {i+10}\")\n",
        "\n",
        "            # Mengambil link, judul, dan tanggal dari setiap artikel\n",
        "            for article in articles:\n",
        "                # Mengambil link dari elemen <a>\n",
        "                a = article.find_element(By.TAG_NAME, \"a\").get_attribute(\"href\")\n",
        "\n",
        "                # Mengambil tanggal dari elemen dengan kelas 'OSrXXb'\n",
        "                date = dateparser.parse(\n",
        "                    date_string=article.find_element(By.CLASS_NAME, \"OSrXXb\").text,\n",
        "                    languages=['en', 'id'])\n",
        "\n",
        "                # Mengambil judul dari elemen dengan kelas 'n0jPhd ynAwRc MBeuO nDgy9d'\n",
        "                #title = article.find_element(By.CLASS_NAME, \"n0jPhd\").text\n",
        "\n",
        "                # Menambahkan tuple (link, tanggal) ke hasil\n",
        "                result_set.add(tuple([a, date.strftime('%Y-%m-%d')]))\n",
        "\n",
        "    except NoSuchElementException as e:\n",
        "        # Jika elemen artikel tidak ditemukan\n",
        "        print('Halaman artikel sudah tidak tersedia')\n",
        "\n",
        "    finally:\n",
        "        # Menutup driver setelah proses selesai\n",
        "        driver.close()\n",
        "        print(f\"Proses selesai. Total link artikel unik yang berhasil diambil: {len(result_set)}\")\n",
        "        print('----------------------------------------------------------')\n"
      ]
    },
    {
      "cell_type": "code",
      "execution_count": null,
      "metadata": {
        "colab": {
          "base_uri": "https://localhost:8080/"
        },
        "id": "JHitTQl0IjDc",
        "outputId": "0968bb53-ba37-4b94-deb2-499be80c2386"
      },
      "outputs": [
        {
          "output_type": "stream",
          "name": "stdout",
          "text": [
            "Mengakses URL: https://www.google.com/search?q=satu+sehat\n",
            "Mengumpulkan artikel dari 1 hingga 10\n",
            "Mengumpulkan artikel dari 11 hingga 20\n",
            "Mengumpulkan artikel dari 21 hingga 30\n",
            "Mengumpulkan artikel dari 31 hingga 40\n",
            "Mengumpulkan artikel dari 41 hingga 50\n",
            "Mengumpulkan artikel dari 51 hingga 60\n",
            "Mengumpulkan artikel dari 61 hingga 70\n",
            "Mengumpulkan artikel dari 71 hingga 80\n",
            "Mengumpulkan artikel dari 81 hingga 90\n",
            "Mengumpulkan artikel dari 91 hingga 100\n",
            "Mengumpulkan artikel dari 101 hingga 110\n",
            "Mengumpulkan artikel dari 111 hingga 120\n",
            "Mengumpulkan artikel dari 121 hingga 130\n",
            "Mengumpulkan artikel dari 131 hingga 140\n",
            "Mengumpulkan artikel dari 141 hingga 150\n",
            "Mengumpulkan artikel dari 151 hingga 160\n",
            "Mengumpulkan artikel dari 161 hingga 170\n",
            "Mengumpulkan artikel dari 171 hingga 180\n",
            "Mengumpulkan artikel dari 181 hingga 190\n",
            "Mengumpulkan artikel dari 191 hingga 200\n",
            "Mengumpulkan artikel dari 201 hingga 210\n",
            "Mengumpulkan artikel dari 211 hingga 220\n",
            "Mengumpulkan artikel dari 221 hingga 230\n",
            "Mengumpulkan artikel dari 231 hingga 240\n",
            "Mengumpulkan artikel dari 241 hingga 250\n",
            "Mengumpulkan artikel dari 251 hingga 260\n",
            "Mengumpulkan artikel dari 261 hingga 270\n",
            "Mengumpulkan artikel dari 271 hingga 280\n",
            "Mengumpulkan artikel dari 281 hingga 290\n",
            "Mengumpulkan artikel dari 291 hingga 300\n",
            "Mengumpulkan artikel dari 301 hingga 310\n",
            "Mengumpulkan artikel dari 311 hingga 320\n",
            "Mengumpulkan artikel dari 321 hingga 330\n",
            "Halaman artikel sudah tidak tersedia\n",
            "Proses selesai. Total link artikel unik yang berhasil diambil: 326\n",
            "----------------------------------------------------------\n",
            "Mengakses URL: https://www.google.com/search?q=peduli+lindungi\n",
            "Mengumpulkan artikel dari 1 hingga 10\n",
            "Mengumpulkan artikel dari 11 hingga 20\n",
            "Mengumpulkan artikel dari 21 hingga 30\n",
            "Mengumpulkan artikel dari 31 hingga 40\n",
            "Mengumpulkan artikel dari 41 hingga 50\n",
            "Mengumpulkan artikel dari 51 hingga 60\n",
            "Mengumpulkan artikel dari 61 hingga 70\n",
            "Mengumpulkan artikel dari 71 hingga 80\n",
            "Mengumpulkan artikel dari 81 hingga 90\n",
            "Halaman artikel sudah tidak tersedia\n",
            "Proses selesai. Total link artikel unik yang berhasil diambil: 409\n",
            "----------------------------------------------------------\n",
            "Mengakses URL: https://www.google.com/search?q=peduli+lindungi+covid+19\n",
            "Mengumpulkan artikel dari 1 hingga 10\n",
            "Mengumpulkan artikel dari 11 hingga 20\n",
            "Mengumpulkan artikel dari 21 hingga 30\n",
            "Mengumpulkan artikel dari 31 hingga 40\n",
            "Mengumpulkan artikel dari 41 hingga 50\n",
            "Mengumpulkan artikel dari 51 hingga 60\n",
            "Mengumpulkan artikel dari 61 hingga 70\n",
            "Mengumpulkan artikel dari 71 hingga 80\n",
            "Halaman artikel sudah tidak tersedia\n",
            "Proses selesai. Total link artikel unik yang berhasil diambil: 456\n",
            "----------------------------------------------------------\n",
            "Mengakses URL: https://www.google.com/search?q=layanan+peduli+lindungi\n",
            "Mengumpulkan artikel dari 1 hingga 10\n",
            "Mengumpulkan artikel dari 11 hingga 20\n",
            "Mengumpulkan artikel dari 21 hingga 30\n",
            "Mengumpulkan artikel dari 31 hingga 40\n",
            "Mengumpulkan artikel dari 41 hingga 50\n",
            "Mengumpulkan artikel dari 51 hingga 60\n",
            "Mengumpulkan artikel dari 61 hingga 70\n",
            "Mengumpulkan artikel dari 71 hingga 80\n",
            "Halaman artikel sudah tidak tersedia\n",
            "Proses selesai. Total link artikel unik yang berhasil diambil: 517\n",
            "----------------------------------------------------------\n"
          ]
        }
      ],
      "source": [
        "# Link Google News yang akan di-scraping\n",
        "# satu sehat\n",
        "scrape_google_news_link(all_articles, 1000, 'https://www.google.com/search?q=satu+sehat&sca_esv=449428b1edf18ef7&tbm=nws&sxsrf=ADLYWIIiJ31AXdt_1uPlcuRXCrWbOCJRPg:1725864313300&ei=eZneZv-IEoKgseMPiN7GyQs&start=0&sa=N&ved=2ahUKEwi_qczKobWIAxUCUGwGHQivMbk4ChDy0wN6BAgDEAQ&biw=1536&bih=703&dpr=1.25')\n",
        "# peduli lindungi\n",
        "scrape_google_news_link(all_articles, 1000, 'https://www.google.com/search?q=peduli+lindungi&sca_esv=449428b1edf18ef7&tbm=nws&sxsrf=ADLYWII8LRnsJNcGclJCB8Yvnvf7td5KGQ:1725864448748&ei=AJreZra2Ld-R4-EP4YLriAM&start=0&sa=N&ved=2ahUKEwi2tpeLorWIAxXfyDgGHWHBGjE4ChDy0wN6BAgDEAQ&biw=1536&bih=703&dpr=1.25')\n",
        "# peduli lindungi covid 19\n",
        "scrape_google_news_link(all_articles, 1000, 'https://www.google.com/search?q=peduli+lindungi+covid+19&sca_esv=449428b1edf18ef7&tbm=nws&sxsrf=ADLYWIJyBmmyIspHbsCsZmAnDpYCI7bcJg:1725864485869&ei=JZreZp3gNLLB4-EP65bUkQc&start=0&sa=N&ved=2ahUKEwjdhvGcorWIAxWy4DgGHWsLNXI4ChDy0wN6BAgEEAQ&biw=1536&bih=703&dpr=1.25')\n",
        "# layanan peduli lindungi\n",
        "scrape_google_news_link(all_articles, 1000, 'https://www.google.com/search?q=layanan+peduli+lindungi&sca_esv=449428b1edf18ef7&tbm=nws&sxsrf=ADLYWIK-xWiGNOvjvOTzKmIHXYcHTmeSfA:1725864527340&ei=T5reZoW_FMiN4-EPzbq24Q4&start=0&sa=N&ved=2ahUKEwjFotSworWIAxXIxjgGHU2dLew4ChDy0wN6BAgBEAQ&biw=1536&bih=703&dpr=1.25')"
      ]
    },
    {
      "cell_type": "code",
      "execution_count": null,
      "metadata": {
        "colab": {
          "base_uri": "https://localhost:8080/"
        },
        "id": "3hQrpvpdaPkW",
        "outputId": "cf75f647-ddea-474d-e979-ebacaa234e96"
      },
      "outputs": [
        {
          "output_type": "stream",
          "name": "stdout",
          "text": [
            "('http://www.thejakartapost.com/indonesia/2022/04/19/govt-brushes-off-privacy-concerns-over-covid-19-app.html', '2022-04-19')\n",
            "('https://kumparan.com/berita-update/cara-ganti-nomor-hp-di-pedulilindungi-lewat-aplikasi-whatsapp-1x3dVLUXZBO', '2021-12-06')\n",
            "('https://katadata.co.id/berita/nasional/63c91014c0b2a/tak-semua-rumah-sakit-siap-terhubung-digitalisasi-satu-sehat', '2023-01-19')\n",
            "('https://mediaindonesia.com/humaniora/561697/platform-satu-sehat-diharap-jadi-standar-kesehatan-nasional', '2023-02-28')\n",
            "('https://www.tribunnews.com/bisnis/2024/09/01/cegah-penyebaran-mpox-di-ri-citilink-minta-penumpang-rute-internasional-isi-aplikasi-satu-sehat', '2024-09-02')\n"
          ]
        }
      ],
      "source": [
        "# Contoh isi link_set\n",
        "for i, data in enumerate(all_articles):\n",
        "  if (i == 5):\n",
        "    break\n",
        "  print(data)"
      ]
    },
    {
      "cell_type": "markdown",
      "metadata": {
        "id": "yK1AEnBeWN_4"
      },
      "source": [
        "# **Ubah Set Menjadi DataFrame**"
      ]
    },
    {
      "cell_type": "code",
      "execution_count": null,
      "metadata": {
        "id": "hOwLEiB7WRDw"
      },
      "outputs": [],
      "source": [
        "newsLink_df = pd.DataFrame(data=all_articles, columns=['link', 'tanggal'])"
      ]
    },
    {
      "cell_type": "code",
      "execution_count": null,
      "metadata": {
        "id": "5lGnWbqjmG9J"
      },
      "outputs": [],
      "source": [
        "# Konversi tanggal menjadi datetime, urutkan dari terbaru ke terlama\n",
        "newsLink_df['tanggal'] = pd.to_datetime(newsLink_df['tanggal'], format='%Y-%m-%d')\n",
        "newsLink_df = newsLink_df.sort_values(by='tanggal', ascending=False, ignore_index=True)"
      ]
    },
    {
      "cell_type": "code",
      "execution_count": null,
      "metadata": {
        "colab": {
          "base_uri": "https://localhost:8080/",
          "height": 423
        },
        "id": "XRPBWeJpWaUx",
        "outputId": "08745fe9-fa24-4145-a71d-1fb2fecd9a07"
      },
      "outputs": [
        {
          "output_type": "execute_result",
          "data": {
            "text/plain": [
              "                                                  link    tanggal\n",
              "0    https://www.gresiksatu.com/ribuan-warga-antusi... 2024-09-09\n",
              "1    https://rri.co.id/kesehatan/959404/aplikasi-sa... 2024-09-07\n",
              "2    https://www.kompas.id/baca/humaniora/2024/09/0... 2024-09-07\n",
              "3    https://beritajateng.tv/antisipasi-penyakir-mp... 2024-09-07\n",
              "4    https://radarbangkalan.jawapos.com/news/231506... 2024-09-06\n",
              "..                                                 ...        ...\n",
              "512  https://sehatnegeriku.kemkes.go.id/baca/umum/2... 2019-09-28\n",
              "513  https://sehatnegeriku.kemkes.go.id/baca/umum/2... 2019-01-29\n",
              "514  https://health.detik.com/kebugaran/d-4277353/c... 2018-10-29\n",
              "515  https://sehatnegeriku.kemkes.go.id/baca/rilis-... 2016-05-05\n",
              "516  https://health.detik.com/true-story/d-2136023/... 2013-01-08\n",
              "\n",
              "[517 rows x 2 columns]"
            ],
            "text/html": [
              "\n",
              "  <div id=\"df-f0699ace-26d3-4c60-88f7-eae4b2c205b2\" class=\"colab-df-container\">\n",
              "    <div>\n",
              "<style scoped>\n",
              "    .dataframe tbody tr th:only-of-type {\n",
              "        vertical-align: middle;\n",
              "    }\n",
              "\n",
              "    .dataframe tbody tr th {\n",
              "        vertical-align: top;\n",
              "    }\n",
              "\n",
              "    .dataframe thead th {\n",
              "        text-align: right;\n",
              "    }\n",
              "</style>\n",
              "<table border=\"1\" class=\"dataframe\">\n",
              "  <thead>\n",
              "    <tr style=\"text-align: right;\">\n",
              "      <th></th>\n",
              "      <th>link</th>\n",
              "      <th>tanggal</th>\n",
              "    </tr>\n",
              "  </thead>\n",
              "  <tbody>\n",
              "    <tr>\n",
              "      <th>0</th>\n",
              "      <td>https://www.gresiksatu.com/ribuan-warga-antusi...</td>\n",
              "      <td>2024-09-09</td>\n",
              "    </tr>\n",
              "    <tr>\n",
              "      <th>1</th>\n",
              "      <td>https://rri.co.id/kesehatan/959404/aplikasi-sa...</td>\n",
              "      <td>2024-09-07</td>\n",
              "    </tr>\n",
              "    <tr>\n",
              "      <th>2</th>\n",
              "      <td>https://www.kompas.id/baca/humaniora/2024/09/0...</td>\n",
              "      <td>2024-09-07</td>\n",
              "    </tr>\n",
              "    <tr>\n",
              "      <th>3</th>\n",
              "      <td>https://beritajateng.tv/antisipasi-penyakir-mp...</td>\n",
              "      <td>2024-09-07</td>\n",
              "    </tr>\n",
              "    <tr>\n",
              "      <th>4</th>\n",
              "      <td>https://radarbangkalan.jawapos.com/news/231506...</td>\n",
              "      <td>2024-09-06</td>\n",
              "    </tr>\n",
              "    <tr>\n",
              "      <th>...</th>\n",
              "      <td>...</td>\n",
              "      <td>...</td>\n",
              "    </tr>\n",
              "    <tr>\n",
              "      <th>512</th>\n",
              "      <td>https://sehatnegeriku.kemkes.go.id/baca/umum/2...</td>\n",
              "      <td>2019-09-28</td>\n",
              "    </tr>\n",
              "    <tr>\n",
              "      <th>513</th>\n",
              "      <td>https://sehatnegeriku.kemkes.go.id/baca/umum/2...</td>\n",
              "      <td>2019-01-29</td>\n",
              "    </tr>\n",
              "    <tr>\n",
              "      <th>514</th>\n",
              "      <td>https://health.detik.com/kebugaran/d-4277353/c...</td>\n",
              "      <td>2018-10-29</td>\n",
              "    </tr>\n",
              "    <tr>\n",
              "      <th>515</th>\n",
              "      <td>https://sehatnegeriku.kemkes.go.id/baca/rilis-...</td>\n",
              "      <td>2016-05-05</td>\n",
              "    </tr>\n",
              "    <tr>\n",
              "      <th>516</th>\n",
              "      <td>https://health.detik.com/true-story/d-2136023/...</td>\n",
              "      <td>2013-01-08</td>\n",
              "    </tr>\n",
              "  </tbody>\n",
              "</table>\n",
              "<p>517 rows × 2 columns</p>\n",
              "</div>\n",
              "    <div class=\"colab-df-buttons\">\n",
              "\n",
              "  <div class=\"colab-df-container\">\n",
              "    <button class=\"colab-df-convert\" onclick=\"convertToInteractive('df-f0699ace-26d3-4c60-88f7-eae4b2c205b2')\"\n",
              "            title=\"Convert this dataframe to an interactive table.\"\n",
              "            style=\"display:none;\">\n",
              "\n",
              "  <svg xmlns=\"http://www.w3.org/2000/svg\" height=\"24px\" viewBox=\"0 -960 960 960\">\n",
              "    <path d=\"M120-120v-720h720v720H120Zm60-500h600v-160H180v160Zm220 220h160v-160H400v160Zm0 220h160v-160H400v160ZM180-400h160v-160H180v160Zm440 0h160v-160H620v160ZM180-180h160v-160H180v160Zm440 0h160v-160H620v160Z\"/>\n",
              "  </svg>\n",
              "    </button>\n",
              "\n",
              "  <style>\n",
              "    .colab-df-container {\n",
              "      display:flex;\n",
              "      gap: 12px;\n",
              "    }\n",
              "\n",
              "    .colab-df-convert {\n",
              "      background-color: #E8F0FE;\n",
              "      border: none;\n",
              "      border-radius: 50%;\n",
              "      cursor: pointer;\n",
              "      display: none;\n",
              "      fill: #1967D2;\n",
              "      height: 32px;\n",
              "      padding: 0 0 0 0;\n",
              "      width: 32px;\n",
              "    }\n",
              "\n",
              "    .colab-df-convert:hover {\n",
              "      background-color: #E2EBFA;\n",
              "      box-shadow: 0px 1px 2px rgba(60, 64, 67, 0.3), 0px 1px 3px 1px rgba(60, 64, 67, 0.15);\n",
              "      fill: #174EA6;\n",
              "    }\n",
              "\n",
              "    .colab-df-buttons div {\n",
              "      margin-bottom: 4px;\n",
              "    }\n",
              "\n",
              "    [theme=dark] .colab-df-convert {\n",
              "      background-color: #3B4455;\n",
              "      fill: #D2E3FC;\n",
              "    }\n",
              "\n",
              "    [theme=dark] .colab-df-convert:hover {\n",
              "      background-color: #434B5C;\n",
              "      box-shadow: 0px 1px 3px 1px rgba(0, 0, 0, 0.15);\n",
              "      filter: drop-shadow(0px 1px 2px rgba(0, 0, 0, 0.3));\n",
              "      fill: #FFFFFF;\n",
              "    }\n",
              "  </style>\n",
              "\n",
              "    <script>\n",
              "      const buttonEl =\n",
              "        document.querySelector('#df-f0699ace-26d3-4c60-88f7-eae4b2c205b2 button.colab-df-convert');\n",
              "      buttonEl.style.display =\n",
              "        google.colab.kernel.accessAllowed ? 'block' : 'none';\n",
              "\n",
              "      async function convertToInteractive(key) {\n",
              "        const element = document.querySelector('#df-f0699ace-26d3-4c60-88f7-eae4b2c205b2');\n",
              "        const dataTable =\n",
              "          await google.colab.kernel.invokeFunction('convertToInteractive',\n",
              "                                                    [key], {});\n",
              "        if (!dataTable) return;\n",
              "\n",
              "        const docLinkHtml = 'Like what you see? Visit the ' +\n",
              "          '<a target=\"_blank\" href=https://colab.research.google.com/notebooks/data_table.ipynb>data table notebook</a>'\n",
              "          + ' to learn more about interactive tables.';\n",
              "        element.innerHTML = '';\n",
              "        dataTable['output_type'] = 'display_data';\n",
              "        await google.colab.output.renderOutput(dataTable, element);\n",
              "        const docLink = document.createElement('div');\n",
              "        docLink.innerHTML = docLinkHtml;\n",
              "        element.appendChild(docLink);\n",
              "      }\n",
              "    </script>\n",
              "  </div>\n",
              "\n",
              "\n",
              "<div id=\"df-d1814880-47ef-41e1-8535-31258fc83be5\">\n",
              "  <button class=\"colab-df-quickchart\" onclick=\"quickchart('df-d1814880-47ef-41e1-8535-31258fc83be5')\"\n",
              "            title=\"Suggest charts\"\n",
              "            style=\"display:none;\">\n",
              "\n",
              "<svg xmlns=\"http://www.w3.org/2000/svg\" height=\"24px\"viewBox=\"0 0 24 24\"\n",
              "     width=\"24px\">\n",
              "    <g>\n",
              "        <path d=\"M19 3H5c-1.1 0-2 .9-2 2v14c0 1.1.9 2 2 2h14c1.1 0 2-.9 2-2V5c0-1.1-.9-2-2-2zM9 17H7v-7h2v7zm4 0h-2V7h2v10zm4 0h-2v-4h2v4z\"/>\n",
              "    </g>\n",
              "</svg>\n",
              "  </button>\n",
              "\n",
              "<style>\n",
              "  .colab-df-quickchart {\n",
              "      --bg-color: #E8F0FE;\n",
              "      --fill-color: #1967D2;\n",
              "      --hover-bg-color: #E2EBFA;\n",
              "      --hover-fill-color: #174EA6;\n",
              "      --disabled-fill-color: #AAA;\n",
              "      --disabled-bg-color: #DDD;\n",
              "  }\n",
              "\n",
              "  [theme=dark] .colab-df-quickchart {\n",
              "      --bg-color: #3B4455;\n",
              "      --fill-color: #D2E3FC;\n",
              "      --hover-bg-color: #434B5C;\n",
              "      --hover-fill-color: #FFFFFF;\n",
              "      --disabled-bg-color: #3B4455;\n",
              "      --disabled-fill-color: #666;\n",
              "  }\n",
              "\n",
              "  .colab-df-quickchart {\n",
              "    background-color: var(--bg-color);\n",
              "    border: none;\n",
              "    border-radius: 50%;\n",
              "    cursor: pointer;\n",
              "    display: none;\n",
              "    fill: var(--fill-color);\n",
              "    height: 32px;\n",
              "    padding: 0;\n",
              "    width: 32px;\n",
              "  }\n",
              "\n",
              "  .colab-df-quickchart:hover {\n",
              "    background-color: var(--hover-bg-color);\n",
              "    box-shadow: 0 1px 2px rgba(60, 64, 67, 0.3), 0 1px 3px 1px rgba(60, 64, 67, 0.15);\n",
              "    fill: var(--button-hover-fill-color);\n",
              "  }\n",
              "\n",
              "  .colab-df-quickchart-complete:disabled,\n",
              "  .colab-df-quickchart-complete:disabled:hover {\n",
              "    background-color: var(--disabled-bg-color);\n",
              "    fill: var(--disabled-fill-color);\n",
              "    box-shadow: none;\n",
              "  }\n",
              "\n",
              "  .colab-df-spinner {\n",
              "    border: 2px solid var(--fill-color);\n",
              "    border-color: transparent;\n",
              "    border-bottom-color: var(--fill-color);\n",
              "    animation:\n",
              "      spin 1s steps(1) infinite;\n",
              "  }\n",
              "\n",
              "  @keyframes spin {\n",
              "    0% {\n",
              "      border-color: transparent;\n",
              "      border-bottom-color: var(--fill-color);\n",
              "      border-left-color: var(--fill-color);\n",
              "    }\n",
              "    20% {\n",
              "      border-color: transparent;\n",
              "      border-left-color: var(--fill-color);\n",
              "      border-top-color: var(--fill-color);\n",
              "    }\n",
              "    30% {\n",
              "      border-color: transparent;\n",
              "      border-left-color: var(--fill-color);\n",
              "      border-top-color: var(--fill-color);\n",
              "      border-right-color: var(--fill-color);\n",
              "    }\n",
              "    40% {\n",
              "      border-color: transparent;\n",
              "      border-right-color: var(--fill-color);\n",
              "      border-top-color: var(--fill-color);\n",
              "    }\n",
              "    60% {\n",
              "      border-color: transparent;\n",
              "      border-right-color: var(--fill-color);\n",
              "    }\n",
              "    80% {\n",
              "      border-color: transparent;\n",
              "      border-right-color: var(--fill-color);\n",
              "      border-bottom-color: var(--fill-color);\n",
              "    }\n",
              "    90% {\n",
              "      border-color: transparent;\n",
              "      border-bottom-color: var(--fill-color);\n",
              "    }\n",
              "  }\n",
              "</style>\n",
              "\n",
              "  <script>\n",
              "    async function quickchart(key) {\n",
              "      const quickchartButtonEl =\n",
              "        document.querySelector('#' + key + ' button');\n",
              "      quickchartButtonEl.disabled = true;  // To prevent multiple clicks.\n",
              "      quickchartButtonEl.classList.add('colab-df-spinner');\n",
              "      try {\n",
              "        const charts = await google.colab.kernel.invokeFunction(\n",
              "            'suggestCharts', [key], {});\n",
              "      } catch (error) {\n",
              "        console.error('Error during call to suggestCharts:', error);\n",
              "      }\n",
              "      quickchartButtonEl.classList.remove('colab-df-spinner');\n",
              "      quickchartButtonEl.classList.add('colab-df-quickchart-complete');\n",
              "    }\n",
              "    (() => {\n",
              "      let quickchartButtonEl =\n",
              "        document.querySelector('#df-d1814880-47ef-41e1-8535-31258fc83be5 button');\n",
              "      quickchartButtonEl.style.display =\n",
              "        google.colab.kernel.accessAllowed ? 'block' : 'none';\n",
              "    })();\n",
              "  </script>\n",
              "</div>\n",
              "\n",
              "  <div id=\"id_9aa5e2c7-685a-4cdb-8bf7-07e5714b4da6\">\n",
              "    <style>\n",
              "      .colab-df-generate {\n",
              "        background-color: #E8F0FE;\n",
              "        border: none;\n",
              "        border-radius: 50%;\n",
              "        cursor: pointer;\n",
              "        display: none;\n",
              "        fill: #1967D2;\n",
              "        height: 32px;\n",
              "        padding: 0 0 0 0;\n",
              "        width: 32px;\n",
              "      }\n",
              "\n",
              "      .colab-df-generate:hover {\n",
              "        background-color: #E2EBFA;\n",
              "        box-shadow: 0px 1px 2px rgba(60, 64, 67, 0.3), 0px 1px 3px 1px rgba(60, 64, 67, 0.15);\n",
              "        fill: #174EA6;\n",
              "      }\n",
              "\n",
              "      [theme=dark] .colab-df-generate {\n",
              "        background-color: #3B4455;\n",
              "        fill: #D2E3FC;\n",
              "      }\n",
              "\n",
              "      [theme=dark] .colab-df-generate:hover {\n",
              "        background-color: #434B5C;\n",
              "        box-shadow: 0px 1px 3px 1px rgba(0, 0, 0, 0.15);\n",
              "        filter: drop-shadow(0px 1px 2px rgba(0, 0, 0, 0.3));\n",
              "        fill: #FFFFFF;\n",
              "      }\n",
              "    </style>\n",
              "    <button class=\"colab-df-generate\" onclick=\"generateWithVariable('newsLink_df')\"\n",
              "            title=\"Generate code using this dataframe.\"\n",
              "            style=\"display:none;\">\n",
              "\n",
              "  <svg xmlns=\"http://www.w3.org/2000/svg\" height=\"24px\"viewBox=\"0 0 24 24\"\n",
              "       width=\"24px\">\n",
              "    <path d=\"M7,19H8.4L18.45,9,17,7.55,7,17.6ZM5,21V16.75L18.45,3.32a2,2,0,0,1,2.83,0l1.4,1.43a1.91,1.91,0,0,1,.58,1.4,1.91,1.91,0,0,1-.58,1.4L9.25,21ZM18.45,9,17,7.55Zm-12,3A5.31,5.31,0,0,0,4.9,8.1,5.31,5.31,0,0,0,1,6.5,5.31,5.31,0,0,0,4.9,4.9,5.31,5.31,0,0,0,6.5,1,5.31,5.31,0,0,0,8.1,4.9,5.31,5.31,0,0,0,12,6.5,5.46,5.46,0,0,0,6.5,12Z\"/>\n",
              "  </svg>\n",
              "    </button>\n",
              "    <script>\n",
              "      (() => {\n",
              "      const buttonEl =\n",
              "        document.querySelector('#id_9aa5e2c7-685a-4cdb-8bf7-07e5714b4da6 button.colab-df-generate');\n",
              "      buttonEl.style.display =\n",
              "        google.colab.kernel.accessAllowed ? 'block' : 'none';\n",
              "\n",
              "      buttonEl.onclick = () => {\n",
              "        google.colab.notebook.generateWithVariable('newsLink_df');\n",
              "      }\n",
              "      })();\n",
              "    </script>\n",
              "  </div>\n",
              "\n",
              "    </div>\n",
              "  </div>\n"
            ],
            "application/vnd.google.colaboratory.intrinsic+json": {
              "type": "dataframe",
              "variable_name": "newsLink_df",
              "summary": "{\n  \"name\": \"newsLink_df\",\n  \"rows\": 517,\n  \"fields\": [\n    {\n      \"column\": \"link\",\n      \"properties\": {\n        \"dtype\": \"string\",\n        \"num_unique_values\": 517,\n        \"samples\": [\n          \"https://fokusjabar.id/2023/02/20/aplikasi-pedulilindungi-bakal-berubah-jadi-satu-sehat-mobile/\",\n          \"https://m.kominfo.go.id/content/detail/31755/kominfo-perbaharui-aplikasi-pedulilindungi-guna-penguatan-layanan-telemedis-di-masa-covid-19/0/sorotan_media\",\n          \"https://jatengpos.co.id/terapkan-aplikasi-peduli-lindungi-wisata-tawangmangu-terkendala-jaringan-internet/rita/\"\n        ],\n        \"semantic_type\": \"\",\n        \"description\": \"\"\n      }\n    },\n    {\n      \"column\": \"tanggal\",\n      \"properties\": {\n        \"dtype\": \"date\",\n        \"min\": \"2013-01-08 00:00:00\",\n        \"max\": \"2024-09-09 00:00:00\",\n        \"num_unique_values\": 236,\n        \"samples\": [\n          \"2023-03-08 00:00:00\",\n          \"2021-09-17 00:00:00\",\n          \"2021-09-27 00:00:00\"\n        ],\n        \"semantic_type\": \"\",\n        \"description\": \"\"\n      }\n    }\n  ]\n}"
            }
          },
          "metadata": {},
          "execution_count": 19
        }
      ],
      "source": [
        "newsLink_df"
      ]
    },
    {
      "cell_type": "markdown",
      "metadata": {
        "id": "CoTsmsKL2jyn"
      },
      "source": [
        "# **Simpan Link Artikel ke CSV**"
      ]
    },
    {
      "cell_type": "code",
      "execution_count": null,
      "metadata": {
        "colab": {
          "base_uri": "https://localhost:8080/"
        },
        "id": "TDgpqjSFmbEu",
        "outputId": "cdeb412c-b971-49bb-d512-248820951778"
      },
      "outputs": [
        {
          "output_type": "stream",
          "name": "stdout",
          "text": [
            "---------------------------------------------------------------------\n",
            "Successfully output the results to the link_berita_satusehat.csv file\n",
            "Successfully got 517 unique article links\n"
          ]
        }
      ],
      "source": [
        "output_file = 'link_berita_satusehat.csv'\n",
        "newsLink_df.to_csv(output_file, index=False)\n",
        "\n",
        "message = f\"Successfully output the results to the {output_file} file\"\n",
        "print('-' * len(message))\n",
        "print(message)\n",
        "print(f\"Successfully got {len(all_articles)} unique article links\")"
      ]
    }
  ],
  "metadata": {
    "colab": {
      "provenance": []
    },
    "kernelspec": {
      "display_name": "Python 3",
      "language": "python",
      "name": "python3"
    },
    "language_info": {
      "codemirror_mode": {
        "name": "ipython",
        "version": 3
      },
      "file_extension": ".py",
      "mimetype": "text/x-python",
      "name": "python",
      "nbconvert_exporter": "python",
      "pygments_lexer": "ipython3",
      "version": "3.11.4"
    }
  },
  "nbformat": 4,
  "nbformat_minor": 0
}